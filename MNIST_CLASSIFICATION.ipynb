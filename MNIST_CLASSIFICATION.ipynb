{
  "nbformat": 4,
  "nbformat_minor": 0,
  "metadata": {
    "colab": {
      "provenance": [],
      "mount_file_id": "191_ZaXi94VWeAR21wT_1PCGCaTWVNi7H",
      "authorship_tag": "ABX9TyPKf5wq2+O4glrRn1GAwF8d",
      "include_colab_link": true
    },
    "kernelspec": {
      "name": "python3",
      "display_name": "Python 3"
    },
    "language_info": {
      "name": "python"
    },
    "accelerator": "GPU",
    "gpuClass": "standard",
    "widgets": {
      "application/vnd.jupyter.widget-state+json": {
        "b9f983a42e9c4d55ab53d970b1ff51e9": {
          "model_module": "@jupyter-widgets/controls",
          "model_name": "HBoxModel",
          "model_module_version": "1.5.0",
          "state": {
            "_dom_classes": [],
            "_model_module": "@jupyter-widgets/controls",
            "_model_module_version": "1.5.0",
            "_model_name": "HBoxModel",
            "_view_count": null,
            "_view_module": "@jupyter-widgets/controls",
            "_view_module_version": "1.5.0",
            "_view_name": "HBoxView",
            "box_style": "",
            "children": [
              "IPY_MODEL_7286cbf556764f2eb8b098b2f8c6e139",
              "IPY_MODEL_fd0a80d0a830403dabaf24e8f792bdbe",
              "IPY_MODEL_2d4022846d5842d98cf71828f2f90b3e"
            ],
            "layout": "IPY_MODEL_a79d09772a56401a82611d7f3a7ff98e"
          }
        },
        "7286cbf556764f2eb8b098b2f8c6e139": {
          "model_module": "@jupyter-widgets/controls",
          "model_name": "HTMLModel",
          "model_module_version": "1.5.0",
          "state": {
            "_dom_classes": [],
            "_model_module": "@jupyter-widgets/controls",
            "_model_module_version": "1.5.0",
            "_model_name": "HTMLModel",
            "_view_count": null,
            "_view_module": "@jupyter-widgets/controls",
            "_view_module_version": "1.5.0",
            "_view_name": "HTMLView",
            "description": "",
            "description_tooltip": null,
            "layout": "IPY_MODEL_132a7b3a80cf486c8a270f537d045929",
            "placeholder": "​",
            "style": "IPY_MODEL_9b8c922e62d84aeeb925cda0bf0f11b1",
            "value": "100%"
          }
        },
        "fd0a80d0a830403dabaf24e8f792bdbe": {
          "model_module": "@jupyter-widgets/controls",
          "model_name": "FloatProgressModel",
          "model_module_version": "1.5.0",
          "state": {
            "_dom_classes": [],
            "_model_module": "@jupyter-widgets/controls",
            "_model_module_version": "1.5.0",
            "_model_name": "FloatProgressModel",
            "_view_count": null,
            "_view_module": "@jupyter-widgets/controls",
            "_view_module_version": "1.5.0",
            "_view_name": "ProgressView",
            "bar_style": "success",
            "description": "",
            "description_tooltip": null,
            "layout": "IPY_MODEL_25975726c1424395bc989abacb678560",
            "max": 10,
            "min": 0,
            "orientation": "horizontal",
            "style": "IPY_MODEL_b6708f5365384a95a9a33ae1e8cd1b4a",
            "value": 10
          }
        },
        "2d4022846d5842d98cf71828f2f90b3e": {
          "model_module": "@jupyter-widgets/controls",
          "model_name": "HTMLModel",
          "model_module_version": "1.5.0",
          "state": {
            "_dom_classes": [],
            "_model_module": "@jupyter-widgets/controls",
            "_model_module_version": "1.5.0",
            "_model_name": "HTMLModel",
            "_view_count": null,
            "_view_module": "@jupyter-widgets/controls",
            "_view_module_version": "1.5.0",
            "_view_name": "HTMLView",
            "description": "",
            "description_tooltip": null,
            "layout": "IPY_MODEL_e624f364774c42a98292469188aa5ada",
            "placeholder": "​",
            "style": "IPY_MODEL_cfc6a7f11ab24832a4200b36110ba66e",
            "value": " 10/10 [01:19&lt;00:00,  7.69s/it]"
          }
        },
        "a79d09772a56401a82611d7f3a7ff98e": {
          "model_module": "@jupyter-widgets/base",
          "model_name": "LayoutModel",
          "model_module_version": "1.2.0",
          "state": {
            "_model_module": "@jupyter-widgets/base",
            "_model_module_version": "1.2.0",
            "_model_name": "LayoutModel",
            "_view_count": null,
            "_view_module": "@jupyter-widgets/base",
            "_view_module_version": "1.2.0",
            "_view_name": "LayoutView",
            "align_content": null,
            "align_items": null,
            "align_self": null,
            "border": null,
            "bottom": null,
            "display": null,
            "flex": null,
            "flex_flow": null,
            "grid_area": null,
            "grid_auto_columns": null,
            "grid_auto_flow": null,
            "grid_auto_rows": null,
            "grid_column": null,
            "grid_gap": null,
            "grid_row": null,
            "grid_template_areas": null,
            "grid_template_columns": null,
            "grid_template_rows": null,
            "height": null,
            "justify_content": null,
            "justify_items": null,
            "left": null,
            "margin": null,
            "max_height": null,
            "max_width": null,
            "min_height": null,
            "min_width": null,
            "object_fit": null,
            "object_position": null,
            "order": null,
            "overflow": null,
            "overflow_x": null,
            "overflow_y": null,
            "padding": null,
            "right": null,
            "top": null,
            "visibility": null,
            "width": null
          }
        },
        "132a7b3a80cf486c8a270f537d045929": {
          "model_module": "@jupyter-widgets/base",
          "model_name": "LayoutModel",
          "model_module_version": "1.2.0",
          "state": {
            "_model_module": "@jupyter-widgets/base",
            "_model_module_version": "1.2.0",
            "_model_name": "LayoutModel",
            "_view_count": null,
            "_view_module": "@jupyter-widgets/base",
            "_view_module_version": "1.2.0",
            "_view_name": "LayoutView",
            "align_content": null,
            "align_items": null,
            "align_self": null,
            "border": null,
            "bottom": null,
            "display": null,
            "flex": null,
            "flex_flow": null,
            "grid_area": null,
            "grid_auto_columns": null,
            "grid_auto_flow": null,
            "grid_auto_rows": null,
            "grid_column": null,
            "grid_gap": null,
            "grid_row": null,
            "grid_template_areas": null,
            "grid_template_columns": null,
            "grid_template_rows": null,
            "height": null,
            "justify_content": null,
            "justify_items": null,
            "left": null,
            "margin": null,
            "max_height": null,
            "max_width": null,
            "min_height": null,
            "min_width": null,
            "object_fit": null,
            "object_position": null,
            "order": null,
            "overflow": null,
            "overflow_x": null,
            "overflow_y": null,
            "padding": null,
            "right": null,
            "top": null,
            "visibility": null,
            "width": null
          }
        },
        "9b8c922e62d84aeeb925cda0bf0f11b1": {
          "model_module": "@jupyter-widgets/controls",
          "model_name": "DescriptionStyleModel",
          "model_module_version": "1.5.0",
          "state": {
            "_model_module": "@jupyter-widgets/controls",
            "_model_module_version": "1.5.0",
            "_model_name": "DescriptionStyleModel",
            "_view_count": null,
            "_view_module": "@jupyter-widgets/base",
            "_view_module_version": "1.2.0",
            "_view_name": "StyleView",
            "description_width": ""
          }
        },
        "25975726c1424395bc989abacb678560": {
          "model_module": "@jupyter-widgets/base",
          "model_name": "LayoutModel",
          "model_module_version": "1.2.0",
          "state": {
            "_model_module": "@jupyter-widgets/base",
            "_model_module_version": "1.2.0",
            "_model_name": "LayoutModel",
            "_view_count": null,
            "_view_module": "@jupyter-widgets/base",
            "_view_module_version": "1.2.0",
            "_view_name": "LayoutView",
            "align_content": null,
            "align_items": null,
            "align_self": null,
            "border": null,
            "bottom": null,
            "display": null,
            "flex": null,
            "flex_flow": null,
            "grid_area": null,
            "grid_auto_columns": null,
            "grid_auto_flow": null,
            "grid_auto_rows": null,
            "grid_column": null,
            "grid_gap": null,
            "grid_row": null,
            "grid_template_areas": null,
            "grid_template_columns": null,
            "grid_template_rows": null,
            "height": null,
            "justify_content": null,
            "justify_items": null,
            "left": null,
            "margin": null,
            "max_height": null,
            "max_width": null,
            "min_height": null,
            "min_width": null,
            "object_fit": null,
            "object_position": null,
            "order": null,
            "overflow": null,
            "overflow_x": null,
            "overflow_y": null,
            "padding": null,
            "right": null,
            "top": null,
            "visibility": null,
            "width": null
          }
        },
        "b6708f5365384a95a9a33ae1e8cd1b4a": {
          "model_module": "@jupyter-widgets/controls",
          "model_name": "ProgressStyleModel",
          "model_module_version": "1.5.0",
          "state": {
            "_model_module": "@jupyter-widgets/controls",
            "_model_module_version": "1.5.0",
            "_model_name": "ProgressStyleModel",
            "_view_count": null,
            "_view_module": "@jupyter-widgets/base",
            "_view_module_version": "1.2.0",
            "_view_name": "StyleView",
            "bar_color": null,
            "description_width": ""
          }
        },
        "e624f364774c42a98292469188aa5ada": {
          "model_module": "@jupyter-widgets/base",
          "model_name": "LayoutModel",
          "model_module_version": "1.2.0",
          "state": {
            "_model_module": "@jupyter-widgets/base",
            "_model_module_version": "1.2.0",
            "_model_name": "LayoutModel",
            "_view_count": null,
            "_view_module": "@jupyter-widgets/base",
            "_view_module_version": "1.2.0",
            "_view_name": "LayoutView",
            "align_content": null,
            "align_items": null,
            "align_self": null,
            "border": null,
            "bottom": null,
            "display": null,
            "flex": null,
            "flex_flow": null,
            "grid_area": null,
            "grid_auto_columns": null,
            "grid_auto_flow": null,
            "grid_auto_rows": null,
            "grid_column": null,
            "grid_gap": null,
            "grid_row": null,
            "grid_template_areas": null,
            "grid_template_columns": null,
            "grid_template_rows": null,
            "height": null,
            "justify_content": null,
            "justify_items": null,
            "left": null,
            "margin": null,
            "max_height": null,
            "max_width": null,
            "min_height": null,
            "min_width": null,
            "object_fit": null,
            "object_position": null,
            "order": null,
            "overflow": null,
            "overflow_x": null,
            "overflow_y": null,
            "padding": null,
            "right": null,
            "top": null,
            "visibility": null,
            "width": null
          }
        },
        "cfc6a7f11ab24832a4200b36110ba66e": {
          "model_module": "@jupyter-widgets/controls",
          "model_name": "DescriptionStyleModel",
          "model_module_version": "1.5.0",
          "state": {
            "_model_module": "@jupyter-widgets/controls",
            "_model_module_version": "1.5.0",
            "_model_name": "DescriptionStyleModel",
            "_view_count": null,
            "_view_module": "@jupyter-widgets/base",
            "_view_module_version": "1.2.0",
            "_view_name": "StyleView",
            "description_width": ""
          }
        },
        "5324d5a819db4ad1987af40336e5d619": {
          "model_module": "@jupyter-widgets/controls",
          "model_name": "HBoxModel",
          "model_module_version": "1.5.0",
          "state": {
            "_dom_classes": [],
            "_model_module": "@jupyter-widgets/controls",
            "_model_module_version": "1.5.0",
            "_model_name": "HBoxModel",
            "_view_count": null,
            "_view_module": "@jupyter-widgets/controls",
            "_view_module_version": "1.5.0",
            "_view_name": "HBoxView",
            "box_style": "",
            "children": [
              "IPY_MODEL_bd042f4658ef42e19372d8059c76c16a",
              "IPY_MODEL_26d249fa89d9475fa3aeeebd20b486ad",
              "IPY_MODEL_a36605b23b954fff8ffdf85c487c4fe5"
            ],
            "layout": "IPY_MODEL_c4dff38a8d51468b88669f9879a3c25a"
          }
        },
        "bd042f4658ef42e19372d8059c76c16a": {
          "model_module": "@jupyter-widgets/controls",
          "model_name": "HTMLModel",
          "model_module_version": "1.5.0",
          "state": {
            "_dom_classes": [],
            "_model_module": "@jupyter-widgets/controls",
            "_model_module_version": "1.5.0",
            "_model_name": "HTMLModel",
            "_view_count": null,
            "_view_module": "@jupyter-widgets/controls",
            "_view_module_version": "1.5.0",
            "_view_name": "HTMLView",
            "description": "",
            "description_tooltip": null,
            "layout": "IPY_MODEL_42780da0bd9940fda040a98ed4bc8010",
            "placeholder": "​",
            "style": "IPY_MODEL_f3d7392581a5424d9fe72f1f7396b27b",
            "value": "100%"
          }
        },
        "26d249fa89d9475fa3aeeebd20b486ad": {
          "model_module": "@jupyter-widgets/controls",
          "model_name": "FloatProgressModel",
          "model_module_version": "1.5.0",
          "state": {
            "_dom_classes": [],
            "_model_module": "@jupyter-widgets/controls",
            "_model_module_version": "1.5.0",
            "_model_name": "FloatProgressModel",
            "_view_count": null,
            "_view_module": "@jupyter-widgets/controls",
            "_view_module_version": "1.5.0",
            "_view_name": "ProgressView",
            "bar_style": "success",
            "description": "",
            "description_tooltip": null,
            "layout": "IPY_MODEL_ca527df57f914dcfb562163ca578c97b",
            "max": 10,
            "min": 0,
            "orientation": "horizontal",
            "style": "IPY_MODEL_85f50b8bc4734051b36715fc2aa91fc8",
            "value": 10
          }
        },
        "a36605b23b954fff8ffdf85c487c4fe5": {
          "model_module": "@jupyter-widgets/controls",
          "model_name": "HTMLModel",
          "model_module_version": "1.5.0",
          "state": {
            "_dom_classes": [],
            "_model_module": "@jupyter-widgets/controls",
            "_model_module_version": "1.5.0",
            "_model_name": "HTMLModel",
            "_view_count": null,
            "_view_module": "@jupyter-widgets/controls",
            "_view_module_version": "1.5.0",
            "_view_name": "HTMLView",
            "description": "",
            "description_tooltip": null,
            "layout": "IPY_MODEL_b5a7b2e4b2384b03b1b99e39d2fdf779",
            "placeholder": "​",
            "style": "IPY_MODEL_1bd732c0daaa47569bc3b2ebe5e58569",
            "value": " 10/10 [01:21&lt;00:00,  8.22s/it]"
          }
        },
        "c4dff38a8d51468b88669f9879a3c25a": {
          "model_module": "@jupyter-widgets/base",
          "model_name": "LayoutModel",
          "model_module_version": "1.2.0",
          "state": {
            "_model_module": "@jupyter-widgets/base",
            "_model_module_version": "1.2.0",
            "_model_name": "LayoutModel",
            "_view_count": null,
            "_view_module": "@jupyter-widgets/base",
            "_view_module_version": "1.2.0",
            "_view_name": "LayoutView",
            "align_content": null,
            "align_items": null,
            "align_self": null,
            "border": null,
            "bottom": null,
            "display": null,
            "flex": null,
            "flex_flow": null,
            "grid_area": null,
            "grid_auto_columns": null,
            "grid_auto_flow": null,
            "grid_auto_rows": null,
            "grid_column": null,
            "grid_gap": null,
            "grid_row": null,
            "grid_template_areas": null,
            "grid_template_columns": null,
            "grid_template_rows": null,
            "height": null,
            "justify_content": null,
            "justify_items": null,
            "left": null,
            "margin": null,
            "max_height": null,
            "max_width": null,
            "min_height": null,
            "min_width": null,
            "object_fit": null,
            "object_position": null,
            "order": null,
            "overflow": null,
            "overflow_x": null,
            "overflow_y": null,
            "padding": null,
            "right": null,
            "top": null,
            "visibility": null,
            "width": null
          }
        },
        "42780da0bd9940fda040a98ed4bc8010": {
          "model_module": "@jupyter-widgets/base",
          "model_name": "LayoutModel",
          "model_module_version": "1.2.0",
          "state": {
            "_model_module": "@jupyter-widgets/base",
            "_model_module_version": "1.2.0",
            "_model_name": "LayoutModel",
            "_view_count": null,
            "_view_module": "@jupyter-widgets/base",
            "_view_module_version": "1.2.0",
            "_view_name": "LayoutView",
            "align_content": null,
            "align_items": null,
            "align_self": null,
            "border": null,
            "bottom": null,
            "display": null,
            "flex": null,
            "flex_flow": null,
            "grid_area": null,
            "grid_auto_columns": null,
            "grid_auto_flow": null,
            "grid_auto_rows": null,
            "grid_column": null,
            "grid_gap": null,
            "grid_row": null,
            "grid_template_areas": null,
            "grid_template_columns": null,
            "grid_template_rows": null,
            "height": null,
            "justify_content": null,
            "justify_items": null,
            "left": null,
            "margin": null,
            "max_height": null,
            "max_width": null,
            "min_height": null,
            "min_width": null,
            "object_fit": null,
            "object_position": null,
            "order": null,
            "overflow": null,
            "overflow_x": null,
            "overflow_y": null,
            "padding": null,
            "right": null,
            "top": null,
            "visibility": null,
            "width": null
          }
        },
        "f3d7392581a5424d9fe72f1f7396b27b": {
          "model_module": "@jupyter-widgets/controls",
          "model_name": "DescriptionStyleModel",
          "model_module_version": "1.5.0",
          "state": {
            "_model_module": "@jupyter-widgets/controls",
            "_model_module_version": "1.5.0",
            "_model_name": "DescriptionStyleModel",
            "_view_count": null,
            "_view_module": "@jupyter-widgets/base",
            "_view_module_version": "1.2.0",
            "_view_name": "StyleView",
            "description_width": ""
          }
        },
        "ca527df57f914dcfb562163ca578c97b": {
          "model_module": "@jupyter-widgets/base",
          "model_name": "LayoutModel",
          "model_module_version": "1.2.0",
          "state": {
            "_model_module": "@jupyter-widgets/base",
            "_model_module_version": "1.2.0",
            "_model_name": "LayoutModel",
            "_view_count": null,
            "_view_module": "@jupyter-widgets/base",
            "_view_module_version": "1.2.0",
            "_view_name": "LayoutView",
            "align_content": null,
            "align_items": null,
            "align_self": null,
            "border": null,
            "bottom": null,
            "display": null,
            "flex": null,
            "flex_flow": null,
            "grid_area": null,
            "grid_auto_columns": null,
            "grid_auto_flow": null,
            "grid_auto_rows": null,
            "grid_column": null,
            "grid_gap": null,
            "grid_row": null,
            "grid_template_areas": null,
            "grid_template_columns": null,
            "grid_template_rows": null,
            "height": null,
            "justify_content": null,
            "justify_items": null,
            "left": null,
            "margin": null,
            "max_height": null,
            "max_width": null,
            "min_height": null,
            "min_width": null,
            "object_fit": null,
            "object_position": null,
            "order": null,
            "overflow": null,
            "overflow_x": null,
            "overflow_y": null,
            "padding": null,
            "right": null,
            "top": null,
            "visibility": null,
            "width": null
          }
        },
        "85f50b8bc4734051b36715fc2aa91fc8": {
          "model_module": "@jupyter-widgets/controls",
          "model_name": "ProgressStyleModel",
          "model_module_version": "1.5.0",
          "state": {
            "_model_module": "@jupyter-widgets/controls",
            "_model_module_version": "1.5.0",
            "_model_name": "ProgressStyleModel",
            "_view_count": null,
            "_view_module": "@jupyter-widgets/base",
            "_view_module_version": "1.2.0",
            "_view_name": "StyleView",
            "bar_color": null,
            "description_width": ""
          }
        },
        "b5a7b2e4b2384b03b1b99e39d2fdf779": {
          "model_module": "@jupyter-widgets/base",
          "model_name": "LayoutModel",
          "model_module_version": "1.2.0",
          "state": {
            "_model_module": "@jupyter-widgets/base",
            "_model_module_version": "1.2.0",
            "_model_name": "LayoutModel",
            "_view_count": null,
            "_view_module": "@jupyter-widgets/base",
            "_view_module_version": "1.2.0",
            "_view_name": "LayoutView",
            "align_content": null,
            "align_items": null,
            "align_self": null,
            "border": null,
            "bottom": null,
            "display": null,
            "flex": null,
            "flex_flow": null,
            "grid_area": null,
            "grid_auto_columns": null,
            "grid_auto_flow": null,
            "grid_auto_rows": null,
            "grid_column": null,
            "grid_gap": null,
            "grid_row": null,
            "grid_template_areas": null,
            "grid_template_columns": null,
            "grid_template_rows": null,
            "height": null,
            "justify_content": null,
            "justify_items": null,
            "left": null,
            "margin": null,
            "max_height": null,
            "max_width": null,
            "min_height": null,
            "min_width": null,
            "object_fit": null,
            "object_position": null,
            "order": null,
            "overflow": null,
            "overflow_x": null,
            "overflow_y": null,
            "padding": null,
            "right": null,
            "top": null,
            "visibility": null,
            "width": null
          }
        },
        "1bd732c0daaa47569bc3b2ebe5e58569": {
          "model_module": "@jupyter-widgets/controls",
          "model_name": "DescriptionStyleModel",
          "model_module_version": "1.5.0",
          "state": {
            "_model_module": "@jupyter-widgets/controls",
            "_model_module_version": "1.5.0",
            "_model_name": "DescriptionStyleModel",
            "_view_count": null,
            "_view_module": "@jupyter-widgets/base",
            "_view_module_version": "1.2.0",
            "_view_name": "StyleView",
            "description_width": ""
          }
        }
      }
    }
  },
  "cells": [
    {
      "cell_type": "markdown",
      "metadata": {
        "id": "view-in-github",
        "colab_type": "text"
      },
      "source": [
        "<a href=\"https://colab.research.google.com/github/ashjostan7/Sudoku/blob/main/MNIST_CLASSIFICATION.ipynb\" target=\"_parent\"><img src=\"https://colab.research.google.com/assets/colab-badge.svg\" alt=\"Open In Colab\"/></a>"
      ]
    },
    {
      "cell_type": "markdown",
      "source": [
        "# Imports:"
      ],
      "metadata": {
        "id": "RCa-TsN3z7up"
      }
    },
    {
      "cell_type": "code",
      "execution_count": 1,
      "metadata": {
        "id": "eE8ygFS5dBwf",
        "colab": {
          "base_uri": "https://localhost:8080/"
        },
        "outputId": "1b52f997-2365-4f05-b1dd-e02bfbdcc550"
      },
      "outputs": [
        {
          "output_type": "stream",
          "name": "stdout",
          "text": [
            "Torch Version: 1.13.1+cu116 \n",
            "Torchvision Version: 0.14.1+cu116\n"
          ]
        }
      ],
      "source": [
        "#Imports\n",
        "import torch\n",
        "from torch import nn\n",
        "\n",
        "import torchvision\n",
        "from torchvision import datasets\n",
        "from torchvision.transforms import ToTensor\n",
        "\n",
        "import matplotlib.pyplot as plt\n",
        "\n",
        "print(f\"Torch Version: {torch.__version__} \\nTorchvision Version: {torchvision.__version__}\")"
      ]
    },
    {
      "cell_type": "markdown",
      "source": [
        "# Get Data:"
      ],
      "metadata": {
        "id": "J8SWsDagz_oh"
      }
    },
    {
      "cell_type": "code",
      "source": [
        "#Setting up the train data:\n",
        "train_data = datasets.MNIST(root= '/content/drive/MyDrive/MNIST/data',\n",
        "                            train = True,\n",
        "                            download= True,\n",
        "                            transform=ToTensor(),\n",
        "                            target_transform=None)\n",
        "\n",
        "test_data = datasets.MNIST(root = \"/content/drive/MyDrive/MNIST/data\",\n",
        "                           train = False,\n",
        "                            download= True,\n",
        "                            transform=ToTensor(),\n",
        "                            target_transform=None)"
      ],
      "metadata": {
        "id": "qJMhFAMmeKTQ"
      },
      "execution_count": 2,
      "outputs": []
    },
    {
      "cell_type": "code",
      "source": [
        "#Check data\n",
        "\n",
        "image, label = train_data[0]\n",
        "#image, label = test_data[0]\n",
        "print(f'Shape: {image.shape}')\n",
        "print(f'label: {label}')\n",
        "print(f'Image: {image}')\n"
      ],
      "metadata": {
        "id": "OukMdCb9fpN9",
        "colab": {
          "base_uri": "https://localhost:8080/"
        },
        "outputId": "7c6a5127-7be0-4dc0-9326-ae49d54cc7fe"
      },
      "execution_count": 3,
      "outputs": [
        {
          "output_type": "stream",
          "name": "stdout",
          "text": [
            "Shape: torch.Size([1, 28, 28])\n",
            "label: 5\n",
            "Image: tensor([[[0.0000, 0.0000, 0.0000, 0.0000, 0.0000, 0.0000, 0.0000, 0.0000,\n",
            "          0.0000, 0.0000, 0.0000, 0.0000, 0.0000, 0.0000, 0.0000, 0.0000,\n",
            "          0.0000, 0.0000, 0.0000, 0.0000, 0.0000, 0.0000, 0.0000, 0.0000,\n",
            "          0.0000, 0.0000, 0.0000, 0.0000],\n",
            "         [0.0000, 0.0000, 0.0000, 0.0000, 0.0000, 0.0000, 0.0000, 0.0000,\n",
            "          0.0000, 0.0000, 0.0000, 0.0000, 0.0000, 0.0000, 0.0000, 0.0000,\n",
            "          0.0000, 0.0000, 0.0000, 0.0000, 0.0000, 0.0000, 0.0000, 0.0000,\n",
            "          0.0000, 0.0000, 0.0000, 0.0000],\n",
            "         [0.0000, 0.0000, 0.0000, 0.0000, 0.0000, 0.0000, 0.0000, 0.0000,\n",
            "          0.0000, 0.0000, 0.0000, 0.0000, 0.0000, 0.0000, 0.0000, 0.0000,\n",
            "          0.0000, 0.0000, 0.0000, 0.0000, 0.0000, 0.0000, 0.0000, 0.0000,\n",
            "          0.0000, 0.0000, 0.0000, 0.0000],\n",
            "         [0.0000, 0.0000, 0.0000, 0.0000, 0.0000, 0.0000, 0.0000, 0.0000,\n",
            "          0.0000, 0.0000, 0.0000, 0.0000, 0.0000, 0.0000, 0.0000, 0.0000,\n",
            "          0.0000, 0.0000, 0.0000, 0.0000, 0.0000, 0.0000, 0.0000, 0.0000,\n",
            "          0.0000, 0.0000, 0.0000, 0.0000],\n",
            "         [0.0000, 0.0000, 0.0000, 0.0000, 0.0000, 0.0000, 0.0000, 0.0000,\n",
            "          0.0000, 0.0000, 0.0000, 0.0000, 0.0000, 0.0000, 0.0000, 0.0000,\n",
            "          0.0000, 0.0000, 0.0000, 0.0000, 0.0000, 0.0000, 0.0000, 0.0000,\n",
            "          0.0000, 0.0000, 0.0000, 0.0000],\n",
            "         [0.0000, 0.0000, 0.0000, 0.0000, 0.0000, 0.0000, 0.0000, 0.0000,\n",
            "          0.0000, 0.0000, 0.0000, 0.0000, 0.0118, 0.0706, 0.0706, 0.0706,\n",
            "          0.4941, 0.5333, 0.6863, 0.1020, 0.6510, 1.0000, 0.9686, 0.4980,\n",
            "          0.0000, 0.0000, 0.0000, 0.0000],\n",
            "         [0.0000, 0.0000, 0.0000, 0.0000, 0.0000, 0.0000, 0.0000, 0.0000,\n",
            "          0.1176, 0.1412, 0.3686, 0.6039, 0.6667, 0.9922, 0.9922, 0.9922,\n",
            "          0.9922, 0.9922, 0.8824, 0.6745, 0.9922, 0.9490, 0.7647, 0.2510,\n",
            "          0.0000, 0.0000, 0.0000, 0.0000],\n",
            "         [0.0000, 0.0000, 0.0000, 0.0000, 0.0000, 0.0000, 0.0000, 0.1922,\n",
            "          0.9333, 0.9922, 0.9922, 0.9922, 0.9922, 0.9922, 0.9922, 0.9922,\n",
            "          0.9922, 0.9843, 0.3647, 0.3216, 0.3216, 0.2196, 0.1529, 0.0000,\n",
            "          0.0000, 0.0000, 0.0000, 0.0000],\n",
            "         [0.0000, 0.0000, 0.0000, 0.0000, 0.0000, 0.0000, 0.0000, 0.0706,\n",
            "          0.8588, 0.9922, 0.9922, 0.9922, 0.9922, 0.9922, 0.7765, 0.7137,\n",
            "          0.9686, 0.9451, 0.0000, 0.0000, 0.0000, 0.0000, 0.0000, 0.0000,\n",
            "          0.0000, 0.0000, 0.0000, 0.0000],\n",
            "         [0.0000, 0.0000, 0.0000, 0.0000, 0.0000, 0.0000, 0.0000, 0.0000,\n",
            "          0.3137, 0.6118, 0.4196, 0.9922, 0.9922, 0.8039, 0.0431, 0.0000,\n",
            "          0.1686, 0.6039, 0.0000, 0.0000, 0.0000, 0.0000, 0.0000, 0.0000,\n",
            "          0.0000, 0.0000, 0.0000, 0.0000],\n",
            "         [0.0000, 0.0000, 0.0000, 0.0000, 0.0000, 0.0000, 0.0000, 0.0000,\n",
            "          0.0000, 0.0549, 0.0039, 0.6039, 0.9922, 0.3529, 0.0000, 0.0000,\n",
            "          0.0000, 0.0000, 0.0000, 0.0000, 0.0000, 0.0000, 0.0000, 0.0000,\n",
            "          0.0000, 0.0000, 0.0000, 0.0000],\n",
            "         [0.0000, 0.0000, 0.0000, 0.0000, 0.0000, 0.0000, 0.0000, 0.0000,\n",
            "          0.0000, 0.0000, 0.0000, 0.5451, 0.9922, 0.7451, 0.0078, 0.0000,\n",
            "          0.0000, 0.0000, 0.0000, 0.0000, 0.0000, 0.0000, 0.0000, 0.0000,\n",
            "          0.0000, 0.0000, 0.0000, 0.0000],\n",
            "         [0.0000, 0.0000, 0.0000, 0.0000, 0.0000, 0.0000, 0.0000, 0.0000,\n",
            "          0.0000, 0.0000, 0.0000, 0.0431, 0.7451, 0.9922, 0.2745, 0.0000,\n",
            "          0.0000, 0.0000, 0.0000, 0.0000, 0.0000, 0.0000, 0.0000, 0.0000,\n",
            "          0.0000, 0.0000, 0.0000, 0.0000],\n",
            "         [0.0000, 0.0000, 0.0000, 0.0000, 0.0000, 0.0000, 0.0000, 0.0000,\n",
            "          0.0000, 0.0000, 0.0000, 0.0000, 0.1373, 0.9451, 0.8824, 0.6275,\n",
            "          0.4235, 0.0039, 0.0000, 0.0000, 0.0000, 0.0000, 0.0000, 0.0000,\n",
            "          0.0000, 0.0000, 0.0000, 0.0000],\n",
            "         [0.0000, 0.0000, 0.0000, 0.0000, 0.0000, 0.0000, 0.0000, 0.0000,\n",
            "          0.0000, 0.0000, 0.0000, 0.0000, 0.0000, 0.3176, 0.9412, 0.9922,\n",
            "          0.9922, 0.4667, 0.0980, 0.0000, 0.0000, 0.0000, 0.0000, 0.0000,\n",
            "          0.0000, 0.0000, 0.0000, 0.0000],\n",
            "         [0.0000, 0.0000, 0.0000, 0.0000, 0.0000, 0.0000, 0.0000, 0.0000,\n",
            "          0.0000, 0.0000, 0.0000, 0.0000, 0.0000, 0.0000, 0.1765, 0.7294,\n",
            "          0.9922, 0.9922, 0.5882, 0.1059, 0.0000, 0.0000, 0.0000, 0.0000,\n",
            "          0.0000, 0.0000, 0.0000, 0.0000],\n",
            "         [0.0000, 0.0000, 0.0000, 0.0000, 0.0000, 0.0000, 0.0000, 0.0000,\n",
            "          0.0000, 0.0000, 0.0000, 0.0000, 0.0000, 0.0000, 0.0000, 0.0627,\n",
            "          0.3647, 0.9882, 0.9922, 0.7333, 0.0000, 0.0000, 0.0000, 0.0000,\n",
            "          0.0000, 0.0000, 0.0000, 0.0000],\n",
            "         [0.0000, 0.0000, 0.0000, 0.0000, 0.0000, 0.0000, 0.0000, 0.0000,\n",
            "          0.0000, 0.0000, 0.0000, 0.0000, 0.0000, 0.0000, 0.0000, 0.0000,\n",
            "          0.0000, 0.9765, 0.9922, 0.9765, 0.2510, 0.0000, 0.0000, 0.0000,\n",
            "          0.0000, 0.0000, 0.0000, 0.0000],\n",
            "         [0.0000, 0.0000, 0.0000, 0.0000, 0.0000, 0.0000, 0.0000, 0.0000,\n",
            "          0.0000, 0.0000, 0.0000, 0.0000, 0.0000, 0.0000, 0.1804, 0.5098,\n",
            "          0.7176, 0.9922, 0.9922, 0.8118, 0.0078, 0.0000, 0.0000, 0.0000,\n",
            "          0.0000, 0.0000, 0.0000, 0.0000],\n",
            "         [0.0000, 0.0000, 0.0000, 0.0000, 0.0000, 0.0000, 0.0000, 0.0000,\n",
            "          0.0000, 0.0000, 0.0000, 0.0000, 0.1529, 0.5804, 0.8980, 0.9922,\n",
            "          0.9922, 0.9922, 0.9804, 0.7137, 0.0000, 0.0000, 0.0000, 0.0000,\n",
            "          0.0000, 0.0000, 0.0000, 0.0000],\n",
            "         [0.0000, 0.0000, 0.0000, 0.0000, 0.0000, 0.0000, 0.0000, 0.0000,\n",
            "          0.0000, 0.0000, 0.0941, 0.4471, 0.8667, 0.9922, 0.9922, 0.9922,\n",
            "          0.9922, 0.7882, 0.3059, 0.0000, 0.0000, 0.0000, 0.0000, 0.0000,\n",
            "          0.0000, 0.0000, 0.0000, 0.0000],\n",
            "         [0.0000, 0.0000, 0.0000, 0.0000, 0.0000, 0.0000, 0.0000, 0.0000,\n",
            "          0.0902, 0.2588, 0.8353, 0.9922, 0.9922, 0.9922, 0.9922, 0.7765,\n",
            "          0.3176, 0.0078, 0.0000, 0.0000, 0.0000, 0.0000, 0.0000, 0.0000,\n",
            "          0.0000, 0.0000, 0.0000, 0.0000],\n",
            "         [0.0000, 0.0000, 0.0000, 0.0000, 0.0000, 0.0000, 0.0706, 0.6706,\n",
            "          0.8588, 0.9922, 0.9922, 0.9922, 0.9922, 0.7647, 0.3137, 0.0353,\n",
            "          0.0000, 0.0000, 0.0000, 0.0000, 0.0000, 0.0000, 0.0000, 0.0000,\n",
            "          0.0000, 0.0000, 0.0000, 0.0000],\n",
            "         [0.0000, 0.0000, 0.0000, 0.0000, 0.2157, 0.6745, 0.8863, 0.9922,\n",
            "          0.9922, 0.9922, 0.9922, 0.9569, 0.5216, 0.0431, 0.0000, 0.0000,\n",
            "          0.0000, 0.0000, 0.0000, 0.0000, 0.0000, 0.0000, 0.0000, 0.0000,\n",
            "          0.0000, 0.0000, 0.0000, 0.0000],\n",
            "         [0.0000, 0.0000, 0.0000, 0.0000, 0.5333, 0.9922, 0.9922, 0.9922,\n",
            "          0.8314, 0.5294, 0.5176, 0.0627, 0.0000, 0.0000, 0.0000, 0.0000,\n",
            "          0.0000, 0.0000, 0.0000, 0.0000, 0.0000, 0.0000, 0.0000, 0.0000,\n",
            "          0.0000, 0.0000, 0.0000, 0.0000],\n",
            "         [0.0000, 0.0000, 0.0000, 0.0000, 0.0000, 0.0000, 0.0000, 0.0000,\n",
            "          0.0000, 0.0000, 0.0000, 0.0000, 0.0000, 0.0000, 0.0000, 0.0000,\n",
            "          0.0000, 0.0000, 0.0000, 0.0000, 0.0000, 0.0000, 0.0000, 0.0000,\n",
            "          0.0000, 0.0000, 0.0000, 0.0000],\n",
            "         [0.0000, 0.0000, 0.0000, 0.0000, 0.0000, 0.0000, 0.0000, 0.0000,\n",
            "          0.0000, 0.0000, 0.0000, 0.0000, 0.0000, 0.0000, 0.0000, 0.0000,\n",
            "          0.0000, 0.0000, 0.0000, 0.0000, 0.0000, 0.0000, 0.0000, 0.0000,\n",
            "          0.0000, 0.0000, 0.0000, 0.0000],\n",
            "         [0.0000, 0.0000, 0.0000, 0.0000, 0.0000, 0.0000, 0.0000, 0.0000,\n",
            "          0.0000, 0.0000, 0.0000, 0.0000, 0.0000, 0.0000, 0.0000, 0.0000,\n",
            "          0.0000, 0.0000, 0.0000, 0.0000, 0.0000, 0.0000, 0.0000, 0.0000,\n",
            "          0.0000, 0.0000, 0.0000, 0.0000]]])\n"
          ]
        }
      ]
    },
    {
      "cell_type": "code",
      "source": [
        "#Check data\n",
        "print(f\"Train: {len(train_data.data)} data points & {len(train_data.targets)} labels\")\n",
        "print(f\"Test: {len(test_data.data)} data points & {len(test_data.targets)} labels\")\n",
        "print(f\"Classes: {train_data.classes}\")"
      ],
      "metadata": {
        "colab": {
          "base_uri": "https://localhost:8080/"
        },
        "id": "WBJEOzkYhnIJ",
        "outputId": "278d9dc1-23ef-4e91-f03b-90613827abbd"
      },
      "execution_count": 4,
      "outputs": [
        {
          "output_type": "stream",
          "name": "stdout",
          "text": [
            "Train: 60000 data points & 60000 labels\n",
            "Test: 10000 data points & 10000 labels\n",
            "Classes: ['0 - zero', '1 - one', '2 - two', '3 - three', '4 - four', '5 - five', '6 - six', '7 - seven', '8 - eight', '9 - nine']\n"
          ]
        }
      ]
    },
    {
      "cell_type": "code",
      "source": [
        "#Visualise Data\n",
        "import matplotlib.pyplot as plt\n",
        "image, label = train_data[0]\n",
        "\n",
        "plt.imshow(image.squeeze(), cmap=\"gray\")\n",
        "plt.title(label)\n",
        "print(f\"Image shape: {image.shape}\")"
      ],
      "metadata": {
        "colab": {
          "base_uri": "https://localhost:8080/",
          "height": 298
        },
        "id": "lInl7zPhiUaA",
        "outputId": "fd7fbc06-6632-4bc8-f83f-84188d348160"
      },
      "execution_count": 5,
      "outputs": [
        {
          "output_type": "stream",
          "name": "stdout",
          "text": [
            "Image shape: torch.Size([1, 28, 28])\n"
          ]
        },
        {
          "output_type": "display_data",
          "data": {
            "text/plain": [
              "<Figure size 432x288 with 1 Axes>"
            ],
            "image/png": "[encoded data removed]"
          },
          "metadata": {
            "needs_background": "light"
          }
        }
      ]
    },
    {
      "cell_type": "code",
      "source": [
        "rows , columns = 4,4\n",
        "fig = plt.figure(figsize=(9, 9))\n",
        "for i in range(1, rows * columns+1):\n",
        "  rnd_index = torch.randint(0, len(train_data.data), size=[1]).item()\n",
        "  #print(f\"{i}: {rnd_index}\")\n",
        "  image, label = train_data[rnd_index]\n",
        "  fig.add_subplot(rows, columns, i)\n",
        "  plt.imshow(image.squeeze(), cmap='gray')\n",
        "  plt.title(train_data.classes[label])\n",
        "  plt.axis(False)\n"
      ],
      "metadata": {
        "colab": {
          "base_uri": "https://localhost:8080/",
          "height": 536
        },
        "id": "54xf8a0OkzqF",
        "outputId": "ac43cb60-5965-452b-9b98-64dbcaeb30e5"
      },
      "execution_count": 6,
      "outputs": [
        {
          "output_type": "display_data",
          "data": {
            "text/plain": [
              "<Figure size 648x648 with 16 Axes>"
            ],
            "image/png": "[encoded data removed]"
          },
          "metadata": {
            "needs_background": "light"
          }
        }
      ]
    },
    {
      "cell_type": "markdown",
      "source": [
        "# DataLoader"
      ],
      "metadata": {
        "id": "dK1lTMQJz28C"
      }
    },
    {
      "cell_type": "code",
      "source": [
        "from torch.utils.data import DataLoader\n",
        "\n",
        "\n",
        "#Hyper-parameter: Batch size\n",
        "batch_size = 32\n",
        "\n",
        "#Train\n",
        "train_dataloader= DataLoader(train_data,\n",
        "                             batch_size,\n",
        "                             shuffle=True)\n",
        "print(f\"Train DataLoader:{train_dataloader}\")\n",
        "print(f\"Train: {len(train_dataloader)} batches of batch size {batch_size}\")\n",
        "\n",
        "#Test\n",
        "test_dataloader= DataLoader(test_data,\n",
        "                             batch_size,\n",
        "                             shuffle=True)\n",
        "print(f\"Train DataLoader:{test_dataloader}\")\n",
        "print(f\"Train: {len(test_dataloader)} batches of batch size {batch_size}\")\n"
      ],
      "metadata": {
        "colab": {
          "base_uri": "https://localhost:8080/"
        },
        "id": "yI8G3lXboO_o",
        "outputId": "4773721c-566b-4ad6-e242-84c61d00bc50"
      },
      "execution_count": 7,
      "outputs": [
        {
          "output_type": "stream",
          "name": "stdout",
          "text": [
            "Train DataLoader:<torch.utils.data.dataloader.DataLoader object at 0x7f7fe70339d0>\n",
            "Train: 1875 batches of batch size 32\n",
            "Train DataLoader:<torch.utils.data.dataloader.DataLoader object at 0x7f7fe7033880>\n",
            "Train: 313 batches of batch size 32\n"
          ]
        }
      ]
    },
    {
      "cell_type": "markdown",
      "source": [
        "## Baseline Model"
      ],
      "metadata": {
        "id": "td01SGU0SJ1K"
      }
    },
    {
      "cell_type": "code",
      "source": [
        "from torch import nn\n",
        "\n",
        "class MNISTv0(nn.Module):\n",
        "  def __init__(self, input_shape, hidden_units: int, output_shape: int):\n",
        "    super().__init__()\n",
        "    self.layer_stack = nn.Sequential(\n",
        "        nn.Flatten(),\n",
        "        nn.Linear(in_features= input_shape, out_features= hidden_units),\n",
        "        nn.Linear(in_features = hidden_units, out_features = output_shape)\n",
        "    )\n",
        "\n",
        "  def forward(self, x):\n",
        "    return self.layer_stack(x)"
      ],
      "metadata": {
        "id": "ltIZM2Al0VgP"
      },
      "execution_count": 8,
      "outputs": []
    },
    {
      "cell_type": "code",
      "source": [
        "torch.manual_seed(42)\n",
        "class_names = train_data.classes\n",
        "\n",
        "model_0 = MNISTv0(input_shape = 784, hidden_units= 10, output_shape= len(class_names))\n",
        "model_0.to(\"cpu\")"
      ],
      "metadata": {
        "colab": {
          "base_uri": "https://localhost:8080/"
        },
        "id": "2C4L3cpbVCC8",
        "outputId": "021912f7-39b3-4c81-a95d-a05a80794765"
      },
      "execution_count": 9,
      "outputs": [
        {
          "output_type": "execute_result",
          "data": {
            "text/plain": [
              "MNISTv0(\n",
              "  (layer_stack): Sequential(\n",
              "    (0): Flatten(start_dim=1, end_dim=-1)\n",
              "    (1): Linear(in_features=784, out_features=10, bias=True)\n",
              "    (2): Linear(in_features=10, out_features=10, bias=True)\n",
              "  )\n",
              ")"
            ]
          },
          "metadata": {},
          "execution_count": 9
        }
      ]
    },
    {
      "cell_type": "markdown",
      "source": [
        "# Loss, optimizer and evaluation metrics"
      ],
      "metadata": {
        "id": "fdKI_xkiYjwC"
      }
    },
    {
      "cell_type": "code",
      "source": [
        "#Acccuracy Function:\n",
        "def accuracy_fn(labels, preds):\n",
        "  correct = torch.eq(labels, preds).sum().item()\n",
        "  acc = (correct/len(preds)) * 100\n",
        "  return acc\n",
        "\n",
        "# Optimiser:\n",
        "optimiser = torch.optim.SGD(params = model_0.parameters(), lr = 0.01)\n",
        "#Loss function:\n",
        "loss_fn = nn.CrossEntropyLoss()\n"
      ],
      "metadata": {
        "id": "HYwU_4R5YhW1"
      },
      "execution_count": 10,
      "outputs": []
    },
    {
      "cell_type": "markdown",
      "source": [
        "# Timer Utility\n",
        "A function to time experiments"
      ],
      "metadata": {
        "id": "rWEbdGdGaW93"
      }
    },
    {
      "cell_type": "code",
      "source": [
        "import time\n",
        "\n",
        "def get_time(start: float, end: float, device: torch.device = None):\n",
        "\n",
        "  total_time = end - start\n",
        "  print(f\"Train time on {device}: {total_time:.3f} seconds\")\n",
        "  return total_time\n",
        "\n"
      ],
      "metadata": {
        "id": "QKxcgjKhaeWb"
      },
      "execution_count": 11,
      "outputs": []
    },
    {
      "cell_type": "markdown",
      "source": [
        "# Train Loop: (CPU)"
      ],
      "metadata": {
        "id": "BHRpqi2lbpa1"
      }
    },
    {
      "cell_type": "code",
      "source": [
        "from tqdm.auto import tqdm\n",
        "\n",
        "torch.manual_seed(42)\n",
        "train_start_time = time.time()\n",
        "\n",
        "epochs = 10\n",
        "\n",
        "for epoch in tqdm(range(epochs)):\n",
        "  print(f\"Epoch {epoch} \\n -----------------------\")\n",
        "\n",
        "  train_loss = 0\n",
        "\n",
        "  for batch, (X,y) in enumerate(train_dataloader):\n",
        "    model_0.train()\n",
        "\n",
        "    # 1. Forward Pass \n",
        "    y_pred = model_0(X)\n",
        "\n",
        "    # 2. Calculate loss\n",
        "    loss = loss_fn(y_pred, y)\n",
        "    train_loss += loss\n",
        "\n",
        "    # 3. Optimizer zero grad\n",
        "    optimiser.zero_grad()\n",
        "\n",
        "    # 4. Loss backward\n",
        "    loss.backward()\n",
        "\n",
        "    # 5. Optimiser step\n",
        "    optimiser.step()\n",
        "\n",
        "    if batch % 800 == 0:\n",
        "      print(f\"Looked at {batch * len(X)}/{len(train_dataloader.dataset)} samples\")\n",
        "\n",
        "  #Avg train loss across batches\n",
        "  train_loss /= len(train_dataloader)\n",
        "\n",
        "\n",
        "  ### TESTING\n",
        "  test_loss, test_acc = 0,0\n",
        "  model_0.eval()\n",
        "  with torch.inference_mode():\n",
        "    for X,y in test_dataloader:\n",
        "\n",
        "      #Predict:\n",
        "      test_pred = model_0(X)\n",
        "\n",
        "      #Calculate loss:\n",
        "      test_loss += loss_fn(test_pred, y)\n",
        "\n",
        "      #Calculate accuracy:\n",
        "      test_acc += accuracy_fn(labels = y, preds = test_pred.argmax(dim=1))\n",
        "\n",
        "      # Debug:\n",
        "      #print(test_pred)\n",
        "      #print(test_pred.argmax(dim=1))\n",
        "\n",
        "    # Avg loss and \n",
        "    test_loss /= len(test_dataloader)\n",
        "    test_acc /= len(test_dataloader)\n",
        "\n",
        "    print(f\"\\nTrain loss: {train_loss:.5f} | Test loss: {test_loss:.5f}, Test acc: {test_acc:.2f}%\\n\")\n",
        "\n",
        "#Calculate training time:\n",
        "train_end_time = time.time()\n",
        "total_train_time = get_time(start = train_start_time, \n",
        "                            end = train_end_time, \n",
        "                            device=str(next(model_0.parameters()).device))"
      ],
      "metadata": {
        "colab": {
          "base_uri": "https://localhost:8080/",
          "height": 1000,
          "referenced_widgets": [
            "b9f983a42e9c4d55ab53d970b1ff51e9",
            "7286cbf556764f2eb8b098b2f8c6e139",
            "fd0a80d0a830403dabaf24e8f792bdbe",
            "2d4022846d5842d98cf71828f2f90b3e",
            "a79d09772a56401a82611d7f3a7ff98e",
            "132a7b3a80cf486c8a270f537d045929",
            "9b8c922e62d84aeeb925cda0bf0f11b1",
            "25975726c1424395bc989abacb678560",
            "b6708f5365384a95a9a33ae1e8cd1b4a",
            "e624f364774c42a98292469188aa5ada",
            "cfc6a7f11ab24832a4200b36110ba66e"
          ]
        },
        "id": "UhTEOjp1bbmc",
        "outputId": "53734087-e2fa-4928-b67e-cf7acb2408ee"
      },
      "execution_count": 12,
      "outputs": [
        {
          "output_type": "display_data",
          "data": {
            "text/plain": [
              "  0%|          | 0/10 [00:00<?, ?it/s]"
            ],
            "application/vnd.jupyter.widget-view+json": {
              "version_major": 2,
              "version_minor": 0,
              "model_id": "b9f983a42e9c4d55ab53d970b1ff51e9"
            }
          },
          "metadata": {}
        },
        {
          "output_type": "stream",
          "name": "stdout",
          "text": [
            "Epoch 0 \n",
            " -----------------------\n",
            "Looked at 0/60000 samples\n",
            "Looked at 25600/60000 samples\n",
            "Looked at 51200/60000 samples\n",
            "\n",
            "Train loss: 0.85480 | Test loss: 0.42923, Test acc: 88.27%\n",
            "\n",
            "Epoch 1 \n",
            " -----------------------\n",
            "Looked at 0/60000 samples\n",
            "Looked at 25600/60000 samples\n",
            "Looked at 51200/60000 samples\n",
            "\n",
            "Train loss: 0.40054 | Test loss: 0.35164, Test acc: 89.84%\n",
            "\n",
            "Epoch 2 \n",
            " -----------------------\n",
            "Looked at 0/60000 samples\n",
            "Looked at 25600/60000 samples\n",
            "Looked at 51200/60000 samples\n",
            "\n",
            "Train loss: 0.35154 | Test loss: 0.32522, Test acc: 90.74%\n",
            "\n",
            "Epoch 3 \n",
            " -----------------------\n",
            "Looked at 0/60000 samples\n",
            "Looked at 25600/60000 samples\n",
            "Looked at 51200/60000 samples\n",
            "\n",
            "Train loss: 0.32868 | Test loss: 0.30712, Test acc: 91.18%\n",
            "\n",
            "Epoch 4 \n",
            " -----------------------\n",
            "Looked at 0/60000 samples\n",
            "Looked at 25600/60000 samples\n",
            "Looked at 51200/60000 samples\n",
            "\n",
            "Train loss: 0.31433 | Test loss: 0.29892, Test acc: 91.44%\n",
            "\n",
            "Epoch 5 \n",
            " -----------------------\n",
            "Looked at 0/60000 samples\n",
            "Looked at 25600/60000 samples\n",
            "Looked at 51200/60000 samples\n",
            "\n",
            "Train loss: 0.30440 | Test loss: 0.29181, Test acc: 91.67%\n",
            "\n",
            "Epoch 6 \n",
            " -----------------------\n",
            "Looked at 0/60000 samples\n",
            "Looked at 25600/60000 samples\n",
            "Looked at 51200/60000 samples\n",
            "\n",
            "Train loss: 0.29715 | Test loss: 0.28578, Test acc: 91.89%\n",
            "\n",
            "Epoch 7 \n",
            " -----------------------\n",
            "Looked at 0/60000 samples\n",
            "Looked at 25600/60000 samples\n",
            "Looked at 51200/60000 samples\n",
            "\n",
            "Train loss: 0.29169 | Test loss: 0.28291, Test acc: 91.92%\n",
            "\n",
            "Epoch 8 \n",
            " -----------------------\n",
            "Looked at 0/60000 samples\n",
            "Looked at 25600/60000 samples\n",
            "Looked at 51200/60000 samples\n",
            "\n",
            "Train loss: 0.28747 | Test loss: 0.28151, Test acc: 92.13%\n",
            "\n",
            "Epoch 9 \n",
            " -----------------------\n",
            "Looked at 0/60000 samples\n",
            "Looked at 25600/60000 samples\n",
            "Looked at 51200/60000 samples\n",
            "\n",
            "Train loss: 0.28382 | Test loss: 0.27837, Test acc: 92.13%\n",
            "\n",
            "Train time on cpu: 79.993 seconds\n"
          ]
        }
      ]
    },
    {
      "cell_type": "markdown",
      "source": [
        "# Evaluation Block"
      ],
      "metadata": {
        "id": "GHmeGRe6tdFP"
      }
    },
    {
      "cell_type": "code",
      "source": [
        "torch.manual_seed(42)\n",
        "def eval_model(model: torch.nn.Module,\n",
        "              data_loader: torch.utils.data.DataLoader,\n",
        "              loss_fn: torch.nn.Module,\n",
        "              accuracy_fn):\n",
        "  loss , acc = 0,0\n",
        "  model.eval()\n",
        "\n",
        "  with torch.inference_mode():\n",
        "    for X,y in data_loader:\n",
        "\n",
        "      #Make predictions with the data:\n",
        "      preds = model(X)\n",
        "\n",
        "      # Get acc and loss across all batches:\n",
        "      loss += loss_fn(preds, y)\n",
        "      acc += accuracy_fn(labels= y,\n",
        "                         preds = preds.argmax(dim=1))\n",
        "    \n",
        "    loss /= len(data_loader)\n",
        "    acc /= len(data_loader)\n",
        "\n",
        "  return {\"model_name\": model.__class__.__name__,\n",
        "          \"model_loss\": loss.item(),\n",
        "          \"model_acc\": acc}\n",
        "\n",
        "  \n"
      ],
      "metadata": {
        "id": "i1kxmLTAtfXo"
      },
      "execution_count": 13,
      "outputs": []
    },
    {
      "cell_type": "markdown",
      "source": [
        "# Baseline model eval"
      ],
      "metadata": {
        "id": "0DFEiHtSwkXI"
      }
    },
    {
      "cell_type": "code",
      "source": [
        "results = eval_model(model = model_0,\n",
        "                     data_loader = test_dataloader,\n",
        "                     loss_fn= loss_fn,\n",
        "                     accuracy_fn = accuracy_fn)\n",
        "print(results)"
      ],
      "metadata": {
        "colab": {
          "base_uri": "https://localhost:8080/"
        },
        "id": "7eKNUuXYwqW3",
        "outputId": "0ad41abc-12e1-4458-a656-3d63c50b3fb2"
      },
      "execution_count": 14,
      "outputs": [
        {
          "output_type": "stream",
          "name": "stdout",
          "text": [
            "{'model_name': 'MNISTv0', 'model_loss': 0.2784936726093292, 'model_acc': 92.13258785942492}\n"
          ]
        }
      ]
    },
    {
      "cell_type": "markdown",
      "source": [
        "# Device Agnostic Code"
      ],
      "metadata": {
        "id": "DGD_YQQF2jof"
      }
    },
    {
      "cell_type": "code",
      "source": [
        "# Setup device agnostic code\n",
        "import torch\n",
        "device = \"cuda\" if torch.cuda.is_available() else \"cpu\"\n",
        "device"
      ],
      "metadata": {
        "colab": {
          "base_uri": "https://localhost:8080/",
          "height": 35
        },
        "id": "ZiFMRMAR2n4B",
        "outputId": "39a5cbbb-d840-414b-d551-d7e29e833520"
      },
      "execution_count": 15,
      "outputs": [
        {
          "output_type": "execute_result",
          "data": {
            "text/plain": [
              "'cuda'"
            ],
            "application/vnd.google.colaboratory.intrinsic+json": {
              "type": "string"
            }
          },
          "metadata": {},
          "execution_count": 15
        }
      ]
    },
    {
      "cell_type": "markdown",
      "source": [
        "# Model 1 - with non linearity"
      ],
      "metadata": {
        "id": "qVrbenIixKgi"
      }
    },
    {
      "cell_type": "code",
      "source": [
        "class MNISTv1(nn.Module):\n",
        "\n",
        "  def __init__(self, input_shape: int, hidden_units: int, output_shape: int):\n",
        "    super().__init__()\n",
        "    self.layer_stack = nn.Sequential(\n",
        "        nn.Flatten(),\n",
        "        nn.Linear(in_features = input_shape, out_features=hidden_units),\n",
        "        nn.ReLU(),\n",
        "        nn.Linear(in_features = hidden_units, out_features=output_shape)\n",
        "    )\n",
        "  \n",
        "  def forward(self, x: torch.Tensor):\n",
        "    return self.layer_stack(x)\n",
        "  "
      ],
      "metadata": {
        "id": "wrVZRDKaxOBm"
      },
      "execution_count": 21,
      "outputs": []
    },
    {
      "cell_type": "code",
      "source": [
        "torch.manual_seed(42)\n",
        "classes = len(train_data.classes)\n",
        "\n",
        "modelv1 = MNISTv1(input_shape = 784,\n",
        "                  hidden_units = 10,\n",
        "                  output_shape = classes).to(device)\n",
        "\n",
        "print(f\"Model loaded on device: {next(modelv1.parameters()).device}\")"
      ],
      "metadata": {
        "colab": {
          "base_uri": "https://localhost:8080/"
        },
        "id": "JK4eKHJF9TsP",
        "outputId": "55f28d92-6245-4242-8cfe-da4e75c51adb"
      },
      "execution_count": 24,
      "outputs": [
        {
          "output_type": "stream",
          "name": "stdout",
          "text": [
            "Model loaded on device: cuda:0\n"
          ]
        }
      ]
    },
    {
      "cell_type": "markdown",
      "source": [
        "# Loss function, Optimiser and Evaluation fn:"
      ],
      "metadata": {
        "id": "u5MkU1iC-yEK"
      }
    },
    {
      "cell_type": "code",
      "source": [
        "loss_fn = nn.CrossEntropyLoss()\n",
        "optimiser = torch.optim.SGD(params = modelv1.parameters(),\n",
        "                            lr = 0.1)\n",
        "\n",
        "def accuracy_fn (labels, preds):\n",
        "  correct = torch.eq(labels, preds).sum().item()\n",
        "  acc = (correct/len(preds)) * 100\n",
        "  return acc"
      ],
      "metadata": {
        "id": "cGFlNW2l-6Kd"
      },
      "execution_count": 26,
      "outputs": []
    },
    {
      "cell_type": "markdown",
      "source": [
        "# Modularise code:\n",
        "Making the train step and test step a function:"
      ],
      "metadata": {
        "id": "DQhBXpci7yQr"
      }
    },
    {
      "cell_type": "code",
      "source": [
        "#TRAIN STEP:\n",
        "def train_step(model: torch.nn.Module,\n",
        "               data_loader: torch.utils.data.DataLoader,\n",
        "               loss_fn: torch.nn.Module,\n",
        "               optimiser: torch.optim.Optimizer,\n",
        "               accuracy_fn,\n",
        "               device: torch.device = device):\n",
        "  \n",
        "  train_loss , train_acc = 0,0\n",
        "  for batch, (X, y) in enumerate(data_loader):\n",
        "\n",
        "    X, y = X.to(device), y.to(device)\n",
        "\n",
        "    # 1. Forward pass:\n",
        "    y_pred = model(X)\n",
        "\n",
        "    # 2. Calculate loss\n",
        "    loss = loss_fn(y_pred, y)\n",
        "    train_loss += loss\n",
        "    train_acc += accuracy_fn(labels = y,\n",
        "                             preds = y_pred.argmax(dim=1))\n",
        "    \n",
        "    # 3. Optimiser set to zero gradient:\n",
        "    optimiser.zero_grad()\n",
        "\n",
        "    # 4. Loss backward:\n",
        "    loss.backward()\n",
        "\n",
        "    # 5. optimiser step\n",
        "    optimiser.step()\n",
        "\n",
        "    if batch%800 == 0:\n",
        "      print(f\"Looked at {batch * len(X)}/{len(train_dataloader.dataset)} samples.\")\n",
        "    \n",
        "  # Calculate loss and accuracy per epoch and print out what's happening\n",
        "  train_loss /= len(data_loader)\n",
        "  train_acc /= len(data_loader)\n",
        "  print(f\"Train loss: {train_loss:.5f} | Train accuracy: {train_acc:.2f}%\")\n",
        "\n",
        "\n",
        "\n",
        "# TEST STEP:\n",
        "def test_step( model: torch.nn.Module,\n",
        "              data_loader: torch.utils.data.DataLoader,\n",
        "              loss_fn: torch.nn.Module,\n",
        "              accuracy_fn, \n",
        "              device: torch.device = device):\n",
        "  \n",
        "  test_loss , test_acc = 0,0\n",
        "  model.eval()\n",
        "\n",
        "  with torch.inference_mode():\n",
        "    for X,y in data_loader:\n",
        "\n",
        "      X,y = X.to(device), y.to(device)\n",
        "\n",
        "      # 1. Forward pass:\n",
        "      test_pred = model(X)\n",
        "\n",
        "      #2. Calculate Loss and accuracy:\n",
        "      test_loss += loss_fn(test_pred, y)\n",
        "      test_acc += accuracy_fn(labels = y,\n",
        "                             preds = test_pred.argmax(dim=1))\n",
        "      \n",
        "    test_loss /= len(data_loader)\n",
        "    test_acc /= len(data_loader)\n",
        "    print(f\"Test loss: {test_loss:.5f} | Test accuracy: {test_acc:.2f}%\\n\")\n",
        "  \n",
        "\n"
      ],
      "metadata": {
        "id": "LZiF1ldy8CwB"
      },
      "execution_count": 39,
      "outputs": []
    },
    {
      "cell_type": "markdown",
      "source": [
        "# Train Loop using train-test functions:"
      ],
      "metadata": {
        "id": "XG8ZISenFKwD"
      }
    },
    {
      "cell_type": "code",
      "source": [
        "torch.manual_seed(42)\n",
        "\n",
        "import time\n",
        "train_start_time = time.time()\n",
        "\n",
        "epochs = 10\n",
        "for epoch in tqdm(range(epochs)):\n",
        "  \n",
        "  print(f\"Epoch {epoch}\\n ----------\")\n",
        "  # Train Step:\n",
        "  train_step(data_loader = train_dataloader,\n",
        "             model = modelv1, \n",
        "             loss_fn = loss_fn, \n",
        "             optimiser = optimiser,\n",
        "             accuracy_fn = accuracy_fn)\n",
        "  #Test Step:\n",
        "  test_step(model = modelv1,\n",
        "            data_loader = test_dataloader,\n",
        "            loss_fn = loss_fn,\n",
        "            accuracy_fn = accuracy_fn\n",
        "            )\n",
        "\n",
        "train_end_time = time.time()\n",
        "total_train_time_model_1 = get_time(start=train_start_time,\n",
        "                                            end=train_end_time,\n",
        "                                            device=device)\n",
        "  "
      ],
      "metadata": {
        "colab": {
          "base_uri": "https://localhost:8080/",
          "height": 1000,
          "referenced_widgets": [
            "5324d5a819db4ad1987af40336e5d619",
            "bd042f4658ef42e19372d8059c76c16a",
            "26d249fa89d9475fa3aeeebd20b486ad",
            "a36605b23b954fff8ffdf85c487c4fe5",
            "c4dff38a8d51468b88669f9879a3c25a",
            "42780da0bd9940fda040a98ed4bc8010",
            "f3d7392581a5424d9fe72f1f7396b27b",
            "ca527df57f914dcfb562163ca578c97b",
            "85f50b8bc4734051b36715fc2aa91fc8",
            "b5a7b2e4b2384b03b1b99e39d2fdf779",
            "1bd732c0daaa47569bc3b2ebe5e58569"
          ]
        },
        "id": "AttEYPTAE8gc",
        "outputId": "6410c447-8b4a-4a56-d897-d98bc54fff2f"
      },
      "execution_count": 40,
      "outputs": [
        {
          "output_type": "display_data",
          "data": {
            "text/plain": [
              "  0%|          | 0/10 [00:00<?, ?it/s]"
            ],
            "application/vnd.jupyter.widget-view+json": {
              "version_major": 2,
              "version_minor": 0,
              "model_id": "5324d5a819db4ad1987af40336e5d619"
            }
          },
          "metadata": {}
        },
        {
          "output_type": "stream",
          "name": "stdout",
          "text": [
            "Epoch 0\n",
            " ----------\n",
            "Looked at 0/60000 samples.\n",
            "Looked at 25600/60000 samples.\n",
            "Looked at 51200/60000 samples.\n",
            "Train loss: 0.27085 | Train accuracy: 92.12%\n",
            "Test loss: 0.24801 | Test accuracy: 92.29%\n",
            "\n",
            "Epoch 1\n",
            " ----------\n",
            "Looked at 0/60000 samples.\n",
            "Looked at 25600/60000 samples.\n",
            "Looked at 51200/60000 samples.\n",
            "Train loss: 0.24551 | Train accuracy: 92.79%\n",
            "Test loss: 0.23804 | Test accuracy: 93.03%\n",
            "\n",
            "Epoch 2\n",
            " ----------\n",
            "Looked at 0/60000 samples.\n",
            "Looked at 25600/60000 samples.\n",
            "Looked at 51200/60000 samples.\n",
            "Train loss: 0.23006 | Train accuracy: 93.25%\n",
            "Test loss: 0.22561 | Test accuracy: 93.31%\n",
            "\n",
            "Epoch 3\n",
            " ----------\n",
            "Looked at 0/60000 samples.\n",
            "Looked at 25600/60000 samples.\n",
            "Looked at 51200/60000 samples.\n",
            "Train loss: 0.22035 | Train accuracy: 93.53%\n",
            "Test loss: 0.22503 | Test accuracy: 93.45%\n",
            "\n",
            "Epoch 4\n",
            " ----------\n",
            "Looked at 0/60000 samples.\n",
            "Looked at 25600/60000 samples.\n",
            "Looked at 51200/60000 samples.\n",
            "Train loss: 0.21459 | Train accuracy: 93.65%\n",
            "Test loss: 0.22104 | Test accuracy: 93.52%\n",
            "\n",
            "Epoch 5\n",
            " ----------\n",
            "Looked at 0/60000 samples.\n",
            "Looked at 25600/60000 samples.\n",
            "Looked at 51200/60000 samples.\n",
            "Train loss: 0.20802 | Train accuracy: 93.78%\n",
            "Test loss: 0.23773 | Test accuracy: 92.65%\n",
            "\n",
            "Epoch 6\n",
            " ----------\n",
            "Looked at 0/60000 samples.\n",
            "Looked at 25600/60000 samples.\n",
            "Looked at 51200/60000 samples.\n",
            "Train loss: 0.20442 | Train accuracy: 93.91%\n",
            "Test loss: 0.22192 | Test accuracy: 93.60%\n",
            "\n",
            "Epoch 7\n",
            " ----------\n",
            "Looked at 0/60000 samples.\n",
            "Looked at 25600/60000 samples.\n",
            "Looked at 51200/60000 samples.\n",
            "Train loss: 0.20018 | Train accuracy: 94.05%\n",
            "Test loss: 0.21842 | Test accuracy: 93.49%\n",
            "\n",
            "Epoch 8\n",
            " ----------\n",
            "Looked at 0/60000 samples.\n",
            "Looked at 25600/60000 samples.\n",
            "Looked at 51200/60000 samples.\n",
            "Train loss: 0.19708 | Train accuracy: 94.12%\n",
            "Test loss: 0.22128 | Test accuracy: 93.51%\n",
            "\n",
            "Epoch 9\n",
            " ----------\n",
            "Looked at 0/60000 samples.\n",
            "Looked at 25600/60000 samples.\n",
            "Looked at 51200/60000 samples.\n",
            "Train loss: 0.19621 | Train accuracy: 94.20%\n",
            "Test loss: 0.21036 | Test accuracy: 93.82%\n",
            "\n",
            "Train time on cuda: 81.584 seconds\n"
          ]
        }
      ]
    },
    {
      "cell_type": "code",
      "source": [],
      "metadata": {
        "id": "lelteX3GF4Zj"
      },
      "execution_count": null,
      "outputs": []
    }
  ]
}